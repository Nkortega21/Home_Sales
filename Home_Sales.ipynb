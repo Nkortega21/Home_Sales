{
  "cells": [
    {
      "cell_type": "code",
      "source": [
        "pip install findspark"
      ],
      "metadata": {
        "colab": {
          "base_uri": "https://localhost:8080/"
        },
        "id": "SFBgmUEwdDYV",
        "outputId": "10c8d04d-0c06-47fd-b167-e3d3c25d1b3b"
      },
      "execution_count": 1,
      "outputs": [
        {
          "output_type": "stream",
          "name": "stdout",
          "text": [
            "Collecting findspark\n",
            "  Downloading findspark-2.0.1-py2.py3-none-any.whl.metadata (352 bytes)\n",
            "Downloading findspark-2.0.1-py2.py3-none-any.whl (4.4 kB)\n",
            "Installing collected packages: findspark\n",
            "Successfully installed findspark-2.0.1\n"
          ]
        }
      ]
    },
    {
      "cell_type": "code",
      "execution_count": 2,
      "metadata": {
        "id": "a_KW73O2e3dw"
      },
      "outputs": [],
      "source": [
        "# Import findspark and initialize.\n",
        "import findspark\n",
        "findspark.init()"
      ]
    },
    {
      "cell_type": "code",
      "execution_count": 3,
      "metadata": {
        "id": "2XbWNf1Te5fM"
      },
      "outputs": [],
      "source": [
        "# Import packages\n",
        "from pyspark.sql import SparkSession\n",
        "import time\n",
        "\n",
        "# Create a SparkSession\n",
        "spark = SparkSession.builder.appName(\"SparkSQL\").getOrCreate()"
      ]
    },
    {
      "cell_type": "code",
      "execution_count": 4,
      "metadata": {
        "colab": {
          "base_uri": "https://localhost:8080/"
        },
        "id": "wOJqxG_RPSwp",
        "outputId": "42ed3a7f-ec29-49ca-8b30-704c33a72a82"
      },
      "outputs": [
        {
          "output_type": "stream",
          "name": "stdout",
          "text": [
            "+--------------------+----------+----------+------+--------+---------+-----------+--------+------+----------+----+\n",
            "|                  id|      date|date_built| price|bedrooms|bathrooms|sqft_living|sqft_lot|floors|waterfront|view|\n",
            "+--------------------+----------+----------+------+--------+---------+-----------+--------+------+----------+----+\n",
            "|f8a53099-ba1c-47d...|2022-04-08|      2016|936923|       4|        3|       3167|   11733|     2|         1|  76|\n",
            "|7530a2d8-1ae3-451...|2021-06-13|      2013|379628|       2|        2|       2235|   14384|     1|         0|  23|\n",
            "|43de979c-0bf0-4c9...|2019-04-12|      2014|417866|       2|        2|       2127|   10575|     2|         0|   0|\n",
            "|b672c137-b88c-48b...|2019-10-16|      2016|239895|       2|        2|       1631|   11149|     2|         0|   0|\n",
            "|e0726d4d-d595-407...|2022-01-08|      2017|424418|       3|        2|       2249|   13878|     2|         0|   4|\n",
            "|5aa00529-0533-46b...|2019-01-30|      2017|218712|       2|        3|       1965|   14375|     2|         0|   7|\n",
            "|131492a1-72e2-4a8...|2020-02-08|      2017|419199|       2|        3|       2062|    8876|     2|         0|   6|\n",
            "|8d54a71b-c520-44e...|2019-07-21|      2010|323956|       2|        3|       1506|   11816|     1|         0|  25|\n",
            "|e81aacfe-17fe-46b...|2020-06-16|      2016|181925|       3|        3|       2137|   11709|     2|         0|  22|\n",
            "|2ed8d509-7372-46d...|2021-08-06|      2015|258710|       3|        3|       1918|    9666|     1|         0|  25|\n",
            "|f876d86f-3c9f-42b...|2019-02-27|      2011|167864|       3|        3|       2471|   13924|     2|         0|  15|\n",
            "|0a2bd445-8508-4d8...|2021-12-30|      2014|337527|       2|        3|       1926|   12556|     1|         0|  23|\n",
            "|941bad30-eb49-4a7...|2020-05-09|      2015|229896|       3|        3|       2197|    8641|     1|         0|   3|\n",
            "|dd61eb34-6589-4c0...|2021-07-25|      2016|210247|       3|        2|       1672|   11986|     2|         0|  28|\n",
            "|f1e4cef7-d151-439...|2019-02-01|      2011|398667|       2|        3|       2331|   11356|     1|         0|   7|\n",
            "|ea620c7b-c2f7-4c6...|2021-05-31|      2011|437958|       3|        3|       2356|   11052|     1|         0|  26|\n",
            "|f233cb41-6f33-4b0...|2021-07-18|      2016|437375|       4|        3|       1704|   11721|     2|         0|  34|\n",
            "|c797ca12-52cd-4b1...|2019-06-08|      2015|288650|       2|        3|       2100|   10419|     2|         0|   7|\n",
            "|0cfe57f3-28c2-472...|2019-10-04|      2015|308313|       3|        3|       1960|    9453|     2|         0|   2|\n",
            "|4566cd2a-ac6e-435...|2019-07-15|      2016|177541|       3|        3|       2130|   10517|     2|         0|  25|\n",
            "+--------------------+----------+----------+------+--------+---------+-----------+--------+------+----------+----+\n",
            "only showing top 20 rows\n",
            "\n"
          ]
        }
      ],
      "source": [
        "# 1. Read in the AWS S3 bucket into a DataFrame.\n",
        "from pyspark import SparkFiles\n",
        "url = \"https://2u-data-curriculum-team.s3.amazonaws.com/dataviz-classroom/v1.2/22-big-data/home_sales_revised.csv\"\n",
        "spark.sparkContext.addFile(url)\n",
        "df = spark.read.csv(SparkFiles.get(\"home_sales_revised.csv\"), sep=\",\", header=True)\n",
        "df.show()\n"
      ]
    },
    {
      "cell_type": "code",
      "execution_count": 5,
      "metadata": {
        "id": "RoljcJ7WPpnm"
      },
      "outputs": [],
      "source": [
        "# 2. Create a temporary view of the DataFrame.\n",
        "df.createOrReplaceTempView('home_sales')\n"
      ]
    },
    {
      "cell_type": "code",
      "execution_count": 21,
      "metadata": {
        "colab": {
          "base_uri": "https://localhost:8080/"
        },
        "id": "L6fkwOeOmqvq",
        "outputId": "844943b2-9174-47b3-f452-e405b1a34e9f"
      },
      "outputs": [
        {
          "output_type": "stream",
          "name": "stdout",
          "text": [
            "+---------+-------------------+\n",
            "|Year_Sold|4_Bedroom_Avg_Price|\n",
            "+---------+-------------------+\n",
            "|     2019|        $300,263.70|\n",
            "|     2020|        $298,353.78|\n",
            "|     2021|        $301,819.44|\n",
            "|     2022|        $296,363.88|\n",
            "+---------+-------------------+\n",
            "\n"
          ]
        }
      ],
      "source": [
        "# 3. What is the average price for a four bedroom house sold per year, rounded to two decimal places?\n",
        "spark.sql(\"\"\"\n",
        "          SELECT\n",
        "            YEAR(date) AS Year_Sold,\n",
        "            CONCAT('$', FORMAT_NUMBER(ROUND(AVG(price), 2), 2)) AS 4_Bedroom_Avg_Price\n",
        "          FROM home_sales\n",
        "          WHERE bedrooms = 4\n",
        "          GROUP BY YEAR(date)\n",
        "          ORDER BY YEAR(date) ASC\n",
        "          \"\"\").show()\n"
      ]
    },
    {
      "cell_type": "code",
      "execution_count": 19,
      "metadata": {
        "colab": {
          "base_uri": "https://localhost:8080/"
        },
        "id": "l8p_tUS8h8it",
        "outputId": "0ea40ff0-a880-4bfc-d729-7a48d99b75d9"
      },
      "outputs": [
        {
          "output_type": "stream",
          "name": "stdout",
          "text": [
            "+----------+----------------------+\n",
            "|Year_Built|3_Bed_3_Bath_Avg_Price|\n",
            "+----------+----------------------+\n",
            "|      2010|           $292,859.62|\n",
            "|      2011|           $291,117.47|\n",
            "|      2012|           $293,683.19|\n",
            "|      2013|           $295,962.27|\n",
            "|      2014|           $290,852.27|\n",
            "|      2015|           $288,770.30|\n",
            "|      2016|           $290,555.07|\n",
            "|      2017|           $292,676.79|\n",
            "+----------+----------------------+\n",
            "\n"
          ]
        }
      ],
      "source": [
        "# 4. What is the average price of a home for each year the home was built,\n",
        "# that have 3 bedrooms and 3 bathrooms, rounded to two decimal places?\n",
        "spark.sql(\"\"\"\n",
        "          SELECT\n",
        "            YEAR(date_built) AS Year_Built,\n",
        "            CONCAT('$', FORMAT_NUMBER(ROUND(AVG(price), 2), 2)) AS 3_Bed_3_Bath_Avg_Price\n",
        "          FROM home_sales\n",
        "          WHERE bedrooms = 3 AND bathrooms = 3\n",
        "          GROUP BY YEAR(date_built)\n",
        "          ORDER BY YEAR(date_built) ASC\n",
        "          \"\"\").show()\n"
      ]
    },
    {
      "cell_type": "code",
      "execution_count": 20,
      "metadata": {
        "colab": {
          "base_uri": "https://localhost:8080/"
        },
        "id": "Y-Eytz64liDU",
        "outputId": "1363bd79-478c-4236-c4e1-d63a1841402c"
      },
      "outputs": [
        {
          "output_type": "stream",
          "name": "stdout",
          "text": [
            "+----------+--------------------+\n",
            "|Year_Built|Dream_Home_Avg_Price|\n",
            "+----------+--------------------+\n",
            "|      2010|         $285,010.22|\n",
            "|      2011|         $276,553.81|\n",
            "|      2012|         $307,539.97|\n",
            "|      2013|         $303,676.79|\n",
            "|      2014|         $298,264.72|\n",
            "|      2015|         $297,609.97|\n",
            "|      2016|         $293,965.10|\n",
            "|      2017|         $280,317.58|\n",
            "+----------+--------------------+\n",
            "\n"
          ]
        }
      ],
      "source": [
        "# 5. What is the average price of a home for each year the home was built,\n",
        "# that have 3 bedrooms, 3 bathrooms, with two floors,\n",
        "# and are greater than or equal to 2,000 square feet, rounded to two decimal places?\n",
        "spark.sql(\"\"\"\n",
        "          SELECT\n",
        "            YEAR(date_built) AS Year_Built,\n",
        "            CONCAT('$', FORMAT_NUMBER(ROUND(AVG(price), 2), 2)) AS Dream_Home_Avg_Price\n",
        "          FROM home_sales\n",
        "          WHERE bedrooms = 3\n",
        "          AND bathrooms = 3\n",
        "          AND floors = 2\n",
        "          AND sqft_living >= 2000\n",
        "          GROUP BY YEAR(date_built)\n",
        "          ORDER BY YEAR(date_built) ASC\n",
        "          \"\"\").show()\n"
      ]
    },
    {
      "cell_type": "code",
      "execution_count": 9,
      "metadata": {
        "colab": {
          "base_uri": "https://localhost:8080/"
        },
        "id": "GUrfgOX1pCRd",
        "outputId": "cfb2005f-a5d5-4372-f578-edea5cab1784"
      },
      "outputs": [
        {
          "output_type": "stream",
          "name": "stdout",
          "text": [
            "+----+-------------+\n",
            "|view|    Avg_Price|\n",
            "+----+-------------+\n",
            "|  99|$1,061,201.42|\n",
            "|  98|$1,053,739.33|\n",
            "|  97|$1,129,040.15|\n",
            "|  96|$1,017,815.92|\n",
            "|  95|$1,054,325.60|\n",
            "|  94|$1,033,536.20|\n",
            "|  93|$1,026,006.06|\n",
            "|  92|  $970,402.55|\n",
            "|  91|$1,137,372.73|\n",
            "|  90|$1,062,654.16|\n",
            "|  89|$1,107,839.15|\n",
            "|  88|$1,031,719.35|\n",
            "|  87|$1,072,285.20|\n",
            "|  86|$1,070,444.25|\n",
            "|  85|$1,056,336.74|\n",
            "|  84|$1,117,233.13|\n",
            "|  83|$1,033,965.93|\n",
            "|  82|$1,063,498.00|\n",
            "|  81|$1,053,472.79|\n",
            "|  80|  $991,767.38|\n",
            "+----+-------------+\n",
            "only showing top 20 rows\n",
            "\n",
            "--- 2.4568958282470703 seconds ---\n"
          ]
        }
      ],
      "source": [
        "# 6. What is the average price of a home per \"view\" rating, rounded to two decimal places,\n",
        "# having an average home price greater than or equal to $350,000? Order by descending view rating.\n",
        "# Although this is a small dataset, determine the run time for this query.\n",
        "\n",
        "start_time = time.time()\n",
        "\n",
        "spark.sql(\"\"\"\n",
        "          SELECT\n",
        "            view,\n",
        "            CONCAT('$', FORMAT_NUMBER(ROUND(AVG(price), 2), 2)) AS Avg_Price\n",
        "          FROM home_sales\n",
        "          GROUP BY view\n",
        "          HAVING AVG(price) >= 350000\n",
        "          ORDER BY view DESC\n",
        "          \"\"\").show()\n",
        "\n",
        "\n",
        "print(\"--- %s seconds ---\" % (time.time() - start_time))"
      ]
    },
    {
      "cell_type": "code",
      "execution_count": 10,
      "metadata": {
        "id": "KAhk3ZD2tFy8"
      },
      "outputs": [],
      "source": [
        "# 7. Cache the the temporary table home_sales.\n",
        "spark.catalog.cacheTable(\"home_sales\")"
      ]
    },
    {
      "cell_type": "code",
      "execution_count": 11,
      "metadata": {
        "colab": {
          "base_uri": "https://localhost:8080/"
        },
        "id": "4opVhbvxtL-i",
        "outputId": "6d3b61a1-abea-4b58-cbc9-6826cdddec7a"
      },
      "outputs": [
        {
          "output_type": "execute_result",
          "data": {
            "text/plain": [
              "True"
            ]
          },
          "metadata": {},
          "execution_count": 11
        }
      ],
      "source": [
        "# 8. Check if the table is cached.\n",
        "spark.catalog.isCached('home_sales')"
      ]
    },
    {
      "cell_type": "code",
      "execution_count": 12,
      "metadata": {
        "colab": {
          "base_uri": "https://localhost:8080/"
        },
        "id": "5GnL46lwTSEk",
        "outputId": "c2d01d10-d2f9-4089-9743-3deb8567fc4d"
      },
      "outputs": [
        {
          "output_type": "stream",
          "name": "stdout",
          "text": [
            "+----+-------------+\n",
            "|view|    Avg_Price|\n",
            "+----+-------------+\n",
            "|  99|$1,061,201.42|\n",
            "|  98|$1,053,739.33|\n",
            "|  97|$1,129,040.15|\n",
            "|  96|$1,017,815.92|\n",
            "|  95|$1,054,325.60|\n",
            "|  94|$1,033,536.20|\n",
            "|  93|$1,026,006.06|\n",
            "|  92|  $970,402.55|\n",
            "|  91|$1,137,372.73|\n",
            "|  90|$1,062,654.16|\n",
            "|  89|$1,107,839.15|\n",
            "|  88|$1,031,719.35|\n",
            "|  87|$1,072,285.20|\n",
            "|  86|$1,070,444.25|\n",
            "|  85|$1,056,336.74|\n",
            "|  84|$1,117,233.13|\n",
            "|  83|$1,033,965.93|\n",
            "|  82|$1,063,498.00|\n",
            "|  81|$1,053,472.79|\n",
            "|  80|  $991,767.38|\n",
            "+----+-------------+\n",
            "only showing top 20 rows\n",
            "\n",
            "--- 2.8856077194213867 seconds ---\n"
          ]
        }
      ],
      "source": [
        "# 9. Using the cached data, run the last query above, that calculates\n",
        "# the average price of a home per \"view\" rating, rounded to two decimal places,\n",
        "# having an average home price greater than or equal to $350,000.\n",
        "# Determine the runtime and compare it to the uncached runtime.\n",
        "\n",
        "start_time = time.time()\n",
        "\n",
        "spark.sql(\"\"\"\n",
        "          SELECT\n",
        "            view,\n",
        "            CONCAT('$', FORMAT_NUMBER(ROUND(AVG(price), 2), 2)) AS Avg_Price\n",
        "          FROM home_sales\n",
        "          GROUP BY view\n",
        "          HAVING AVG(price) >= 350000\n",
        "          ORDER BY view DESC\n",
        "          \"\"\").show()\n",
        "\n",
        "\n",
        "print(\"--- %s seconds ---\" % (time.time() - start_time))\n"
      ]
    },
    {
      "cell_type": "code",
      "execution_count": 13,
      "metadata": {
        "id": "Qm12WN9isHBR"
      },
      "outputs": [],
      "source": [
        "# 10. Partition by the \"date_built\" field on the formatted parquet home sales data\n",
        "df.write.partitionBy(\"date_built\").mode(\"overwrite\").parquet(\"home_sales_partitioned\")"
      ]
    },
    {
      "cell_type": "code",
      "execution_count": 14,
      "metadata": {
        "id": "AZ7BgY61sRqY"
      },
      "outputs": [],
      "source": [
        "# 11. Read the formatted parquet data.\n",
        "p_df_p=spark.read.parquet('home_sales_partitioned')"
      ]
    },
    {
      "cell_type": "code",
      "execution_count": 15,
      "metadata": {
        "id": "J6MJkHfvVcvh"
      },
      "outputs": [],
      "source": [
        "# 12. Create a temporary table for the parquet data.\n",
        "p_df_p.createOrReplaceTempView('p_home_sales_p')"
      ]
    },
    {
      "cell_type": "code",
      "execution_count": 16,
      "metadata": {
        "colab": {
          "base_uri": "https://localhost:8080/"
        },
        "id": "G_Vhb52rU1Sn",
        "outputId": "39f94841-1d20-421a-a0e6-da7c8449b9bb"
      },
      "outputs": [
        {
          "output_type": "stream",
          "name": "stdout",
          "text": [
            "+----+-------------+\n",
            "|view|    Avg_Price|\n",
            "+----+-------------+\n",
            "|  99|$1,061,201.42|\n",
            "|  98|$1,053,739.33|\n",
            "|  97|$1,129,040.15|\n",
            "|  96|$1,017,815.92|\n",
            "|  95|$1,054,325.60|\n",
            "|  94|$1,033,536.20|\n",
            "|  93|$1,026,006.06|\n",
            "|  92|  $970,402.55|\n",
            "|  91|$1,137,372.73|\n",
            "|  90|$1,062,654.16|\n",
            "|  89|$1,107,839.15|\n",
            "|  88|$1,031,719.35|\n",
            "|  87|$1,072,285.20|\n",
            "|  86|$1,070,444.25|\n",
            "|  85|$1,056,336.74|\n",
            "|  84|$1,117,233.13|\n",
            "|  83|$1,033,965.93|\n",
            "|  82|$1,063,498.00|\n",
            "|  81|$1,053,472.79|\n",
            "|  80|  $991,767.38|\n",
            "+----+-------------+\n",
            "only showing top 20 rows\n",
            "\n",
            "--- 1.0941276550292969 seconds ---\n"
          ]
        }
      ],
      "source": [
        "# 13. Using the parquet DataFrame, run the last query above, that calculates\n",
        "# the average price of a home per \"view\" rating, rounded to two decimal places,\n",
        "# having an average home price greater than or equal to $350,000.\n",
        "# Determine the runtime and compare it to the cached runtime.\n",
        "\n",
        "start_time = time.time()\n",
        "\n",
        "spark.sql(\"\"\"\n",
        "          SELECT\n",
        "            view,\n",
        "            CONCAT('$', FORMAT_NUMBER(ROUND(AVG(price), 2), 2)) AS Avg_Price\n",
        "          FROM p_home_sales_p\n",
        "          GROUP BY view\n",
        "          HAVING AVG(price) >= 350000\n",
        "          ORDER BY view DESC\n",
        "          \"\"\").show()\n",
        "\n",
        "\n",
        "print(\"--- %s seconds ---\" % (time.time() - start_time))"
      ]
    },
    {
      "cell_type": "code",
      "execution_count": 17,
      "metadata": {
        "id": "hjjYzQGjtbq8"
      },
      "outputs": [],
      "source": [
        "# 14. Uncache the home_sales temporary table.\n",
        "spark.catalog.uncacheTable(\"home_sales\")"
      ]
    },
    {
      "cell_type": "code",
      "execution_count": 18,
      "metadata": {
        "colab": {
          "base_uri": "https://localhost:8080/"
        },
        "id": "Sy9NBvO7tlmm",
        "outputId": "e3f0722b-bade-4437-a848-78817302a3b0"
      },
      "outputs": [
        {
          "output_type": "execute_result",
          "data": {
            "text/plain": [
              "False"
            ]
          },
          "metadata": {},
          "execution_count": 18
        }
      ],
      "source": [
        "# 15. Check if the home_sales is no longer cached\n",
        "spark.catalog.isCached('home_sales')\n"
      ]
    },
    {
      "cell_type": "code",
      "execution_count": 18,
      "metadata": {
        "id": "D0vKVq4ldCSy"
      },
      "outputs": [],
      "source": []
    }
  ],
  "metadata": {
    "colab": {
      "provenance": []
    },
    "kernelspec": {
      "display_name": "Python 3 (ipykernel)",
      "language": "python",
      "name": "python3"
    },
    "language_info": {
      "codemirror_mode": {
        "name": "ipython",
        "version": 3
      },
      "file_extension": ".py",
      "mimetype": "text/x-python",
      "name": "python",
      "nbconvert_exporter": "python",
      "pygments_lexer": "ipython3",
      "version": "3.10.4"
    },
    "nteract": {
      "version": "0.28.0"
    }
  },
  "nbformat": 4,
  "nbformat_minor": 0
}